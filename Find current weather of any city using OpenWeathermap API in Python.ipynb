{
 "cells": [
  {
   "cell_type": "code",
   "execution_count": 1,
   "id": "867417f5",
   "metadata": {},
   "outputs": [
    {
     "name": "stdout",
     "output_type": "stream",
     "text": [
      "Enter the Name of City -> Nabha\n",
      "Searching...\n",
      "\n",
      "Nabha, Punjab\n",
      "Monday, 10:00 pm\n",
      "Partly cloudy\n",
      "28°C\n",
      "Have a Nice Day:)\n"
     ]
    }
   ],
   "source": [
    "from bs4 import BeautifulSoup\n",
    "import requests\n",
    "headers = {\n",
    "\t'User-Agent': 'Mozilla/5.0 (Windows NT 10.0; Win64; x64) AppleWebKit/537.36 (KHTML, like Gecko) Chrome/58.0.3029.110 Safari/537.3'}\n",
    "\n",
    "\n",
    "def weather(city):\n",
    "\tcity = city.replace(\" \", \"+\")\n",
    "\tres = requests.get(\n",
    "\t\tf'https://www.google.com/search?q={city}&oq={city}&aqs=chrome.0.35i39l2j0l4j46j69i60.6128j1j7&sourceid=chrome&ie=UTF-8', headers=headers)\n",
    "\tprint(\"Searching...\\n\")\n",
    "\tsoup = BeautifulSoup(res.text, 'html.parser')\n",
    "\tlocation = soup.select('#wob_loc')[0].getText().strip()\n",
    "\ttime = soup.select('#wob_dts')[0].getText().strip()\n",
    "\tinfo = soup.select('#wob_dc')[0].getText().strip()\n",
    "\tweather = soup.select('#wob_tm')[0].getText().strip()\n",
    "\tprint(location)\n",
    "\tprint(time)\n",
    "\tprint(info)\n",
    "\tprint(weather+\"°C\")\n",
    "\n",
    "\n",
    "city = input(\"Enter the Name of City -> \")\n",
    "city = city+\" weather\"\n",
    "weather(city)\n",
    "print(\"Have a Nice Day:)\")\n",
    "\n",
    "# This code is contributed by adityatri\n"
   ]
  },
  {
   "cell_type": "code",
   "execution_count": null,
   "id": "400ba4b3",
   "metadata": {},
   "outputs": [],
   "source": [
    "\n",
    "\n",
   
